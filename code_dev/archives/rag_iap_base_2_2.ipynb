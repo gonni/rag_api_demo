{
  "cells": [
    {
      "cell_type": "markdown",
      "metadata": {},
      "source": [
        "# Enhanced RAG Pipeline for Long Documents and Complex Concept Systems\n",
        "\n",
        "## 주요 개선사항:\n",
        "1. **계층적 문서 분석**: 문서 구조를 파악하여 전체 개요와 세부사항을 구분\n",
        "2. **개념 맵핑**: PNS_1, PNS_2 등의 개념들을 자동으로 식별하고 분류\n",
        "3. **다단계 검색**: 전체 개요 → 세부 개념 → 구체적 내용의 단계적 검색\n",
        "4. **컨텍스트 윈도우 확장**: 관련 섹션들을 그룹화하여 더 넓은 맥락 제공\n",
        "5. **개요 우선 접근**: 긴 문서의 전체적인 맥락을 먼저 파악한 후 세부사항 탐색"
      ]
    },
    {
      "cell_type": "code",
      "execution_count": 93,
      "metadata": {},
      "outputs": [
        {
          "name": "stdout",
          "output_type": "stream",
          "text": [
            "Enhanced RAG Config:\n",
            "- DATA_FILE: data/dev_center_guide_allmd_touched.md\n",
            "- EMBED_MODEL: bge-m3:latest\n",
            "- LLM_MODEL: exaone3.5:latest\n",
            "- FAISS_DIR:  models/faiss_rag_enhanced_bge-m3_hierarchical\n"
          ]
        }
      ],
      "source": [
        "# Enhanced RAG Pipeline for Long Documents and Complex Concept Systems\n",
        "# - Hierarchical document analysis\n",
        "# - Concept mapping and categorization  \n",
        "# - Multi-stage retrieval strategy\n",
        "# - Context window expansion\n",
        "# - Overview-first approach for comprehensive understanding\n",
        "\n",
        "import os, re, json\n",
        "from typing import List, Dict, Any, Tuple, Optional, Set\n",
        "from dataclasses import dataclass\n",
        "from collections import Counter, defaultdict\n",
        "import networkx as nx\n",
        "\n",
        "from langchain.docstore.document import Document\n",
        "from langchain_ollama import OllamaEmbeddings\n",
        "from langchain_community.vectorstores import FAISS\n",
        "from langchain_community.retrievers import BM25Retriever\n",
        "from langchain.retrievers import EnsembleRetriever\n",
        "from langchain_ollama import ChatOllama\n",
        "from langchain_core.prompts import PromptTemplate\n",
        "from langchain_core.output_parsers import StrOutputParser\n",
        "\n",
        "try:\n",
        "    from langchain_text_splitters import MarkdownHeaderTextSplitter\n",
        "    HAS_MD_SPLITTER = True\n",
        "except Exception:\n",
        "    HAS_MD_SPLITTER = False\n",
        "\n",
        "DATA_FILE = \"data/dev_center_guide_allmd_touched.md\"\n",
        "EMBED_MODEL = \"bge-m3:latest\"\n",
        "LLM_MODEL = \"exaone3.5:latest\"\n",
        "FAISS_DIR = \"models/faiss_rag_enhanced_bge-m3_hierarchical\"\n",
        "\n",
        "print(\"Enhanced RAG Config:\")\n",
        "print(f\"- DATA_FILE: {DATA_FILE}\")\n",
        "print(f\"- EMBED_MODEL: {EMBED_MODEL}\")\n",
        "print(f\"- LLM_MODEL: {LLM_MODEL}\")\n",
        "print(f\"- FAISS_DIR:  {FAISS_DIR}\")"
      ]
    },
    {
      "cell_type": "code",
      "execution_count": 96,
      "metadata": {},
      "outputs": [
        {
          "name": "stdout",
          "output_type": "stream",
          "text": [
            "Enhanced RAG Config:\n",
            "- DATA_FILE: ../data/dev_center_guide_allmd_touched.md\n",
            "- EMBED_MODEL: bge-m3:latest\n",
            "- LLM_MODEL: exaone3.5:latest\n",
            "- FAISS_DIR:  ../models/faiss_rag_enhanced_bge-m3_hierarchical\n",
            "✅ Enhanced RAG System 모듈 로드 완료!\n"
          ]
        }
      ],
      "source": [
        "# Enhanced RAG System 클래스들을 import\n",
        "from code_dev.enhanced_rag_system import (\n",
        "    HierarchicalDocumentAnalyzer, \n",
        "    MultiStageRetriever, \n",
        "    ContextWindowExpander, \n",
        "    EnhancedRAGSystem,\n",
        "    COMPREHENSIVE_OVERVIEW_PROMPT,\n",
        "    DETAILED_ANALYSIS_PROMPT\n",
        ")\n",
        "\n",
        "print(\"✅ Enhanced RAG System 모듈 로드 완료!\")"
      ]
    },
    {
      "cell_type": "code",
      "execution_count": 97,
      "metadata": {},
      "outputs": [
        {
          "name": "stdout",
          "output_type": "stream",
          "text": [
            "📊 문서 구조 분석 완료:\n",
            "   - 총 노드: 494\n",
            "   - 개념 그룹: 0\n",
            "   - 개요 섹션: 18\n",
            "🚀 Enhanced RAG System 초기화 완료!\n",
            "🚀 Enhanced RAG System이 성공적으로 초기화되었습니다!\n"
          ]
        }
      ],
      "source": [
        "# Enhanced RAG System 초기화\n",
        "enhanced_system = EnhancedRAGSystem(DATA_FILE, EMBED_MODEL, LLM_MODEL)\n",
        "\n",
        "print(\"🚀 Enhanced RAG System이 성공적으로 초기화되었습니다!\")"
      ]
    },
    {
      "cell_type": "code",
      "execution_count": 98,
      "metadata": {},
      "outputs": [
        {
          "name": "stdout",
          "output_type": "stream",
          "text": [
            "🔍 테스트 1: PNS의 전반적인 기능을 요약해주세요\n",
            "================================================================================\n",
            "답변:\n",
            "### 분석 결과 요약\n",
            "\n",
            "#### 📋 전체 구조\n",
            "1. **웹 기반 인앱 결제 가이드**: 원스토어 플랫폼을 이용한 웹 기반 인앱 결제 시스템에 대한 포괄적인 안내서입니다.\n",
            "2. **서버 API 활용**: 결제 프로세스는 서버 측 API를 통해 이루어지며, 특히 OAuth 인증과 User Access Token의 사용이 강조됩니다.\n",
            "3. **HTTP 요청 및 응답**: 결제 요청과 응답은 HTTP 프로토콜을 통해 이루어지며, 특히 Header에 접근 토큰(User Access Token)의 포함이 중요합니다.\n",
            "4. **표준 응답 코드**: 다양한 상황에 따른 HTTP 응답 코드와 그 의미, 적용 범위가 상세히 설명되어 있습니다.\n",
            "\n",
            "#### 🎯 핵심 개념\n",
            "1. **OAuth 인증**: 사용자 인증을 위해 OAuth 인증을 활용하며, 이로 인해 발급되는 User Access Token이 모든 결제 관련 요청에 필수적입니다.\n",
            "2. **User Access Token**: 결제 요청과 응답 사이에서 사용자 권한을 확인하고 검증하는 데 사용되는 접근 토큰입니다.\n",
            "3. **결제 요청 (paymentUrl + paymentParam)**: `paymentUrl`을 통해 결제 파라미터(`paymentParam`)를 전송하여 결제를 요청합니다.\n",
            "4. **결제 응답 처리**: 결제 결과를 수신하고 적절히 처리하는 방법이 설명되어 있습니다.\n",
            "\n",
            "#### 📖 기능 요약\n",
            "- **결제 요청 프로세스**: 사용자 인증 후, 결제 파라미터를 포함한 요청을 서버 API에 전송합니다. 이 과정에서 User Access Token이 헤더에 포함되어야 합니다.\n",
            "- **결제 응답 처리**: 결제 완료 후, 개발 서버로 결제 결과가 전달되며, 이를 적절히 처리하여 사용자에게 피드백을 제공합니다.\n",
            "\n",
            "#### 🔍 추가 정보\n",
            "- **API 호출 예시**: 구체적인 API 호출 예시나 코드 스니펫이 추가로 제공되면 더 도움이 될 것입니다.\n",
            "- **오류 처리**: 다양한 오류 코드에 대한 상세한 처리 방법이나 예외 처리 전략이 포함되면 유용할 것입니다.\n",
            "- **사용자 인터페이스 가이드라인**: 결제 프로세스를 사용자에게 어떻게 안내할지에 대한 UI/UX 가이드라인이 포함되면 더 완성된 가이드가 될 것입니다.\n",
            "\n",
            "이러한 분석을 통해 문서는 원스토어 인앱 결제 시스템의 기술적 세부사항과 사용 방법을 잘 설명하고 있으나, 실제 구현 시 참고할 수 있는 구체적인 예시나 추가적인 사용자 경험 가이드라인이 보완된다면 더욱 효과적일 것입니다.\n"
          ]
        }
      ],
      "source": [
        "# 테스트 1: PNS의 전반적인 기능 요약\n",
        "print(\"🔍 테스트 1: PNS의 전반적인 기능을 요약해주세요\")\n",
        "print(\"=\"*80)\n",
        "\n",
        "query1 = \"PNS의 전반적인 기능을 요약해주세요\"\n",
        "answer1 = enhanced_system.answer_comprehensive(query1, include_overview=True)\n",
        "print(f\"답변:\\n{answer1}\")"
      ]
    },
    {
      "cell_type": "code",
      "execution_count": 99,
      "metadata": {},
      "outputs": [
        {
          "name": "stdout",
          "output_type": "stream",
          "text": [
            "🔍 테스트 2: PNS_1, PNS_2 등의 세부 개념들이 무엇인지 알려주세요\n",
            "================================================================================\n",
            "답변:\n",
            "### 📊 전체 구조\n",
            "\n",
            "1. **개요 및 목표**\n",
            "   - 문서의 목적과 주요 사용자(개발자, 사업자 등)를 명확히 설명합니다.\n",
            "   \n",
            "2. **서버 APIs**\n",
            "   - **접근 토큰(User Access Token) 사용 방법**\n",
            "     - OAuth Token을 이용한 서버 API 호출 방법을 설명합니다.\n",
            "   - **결제 요청**\n",
            "     - `paymentUrl`을 통해 `paymentParam`을 전달하여 결제 요청을 수행하는 과정을 설명합니다.\n",
            "   - **결제 응답 처리**\n",
            "     - 결제 완료 후 표준 결제화면에서의 응답을 개발사로 전달하는 방법을 설명합니다.\n",
            "\n",
            "3. **표준 응답 코드**\n",
            "   - 다양한 API 호출 결과에 대한 HTTP 상태 코드와 메시지를 상세히 나열합니다. 각 응답 코드의 의미와 발생 가능한 상황을 설명합니다.\n",
            "\n",
            "4. **결제 프로세스 상세**\n",
            "   - 결제 요청부터 응답까지의 전체 프로세스를 단계별로 설명합니다. 특히, 표준 결제화면의 역할과 결제 완료 후의 응답 처리 과정이 포함됩니다.\n",
            "\n",
            "### 🎯 핵심 개념\n",
            "\n",
            "1. **접근 토큰 (User Access Token)**\n",
            "   - 모든 서버 API 호출 시 필요한 인증 토큰으로, OAuth 기반의 인증 시스템을 통해 발급됩니다.\n",
            "\n",
            "2. **결제 요청 및 응답**\n",
            "   - 결제 요청을 위한 `paymentUrl`과 `paymentParam`의 사용 방법 및 결제 완료 후의 응답 처리 메커니즘.\n",
            "\n",
            "3. **HTTP 상태 코드**\n",
            "   - 각 API 호출 결과에 따른 HTTP 상태 코드 (예: 200 성공, 400 잘못된 요청, 401 권한 없음 등)와 그 의미를 이해하는 것이 중요합니다.\n",
            "\n",
            "### 📖 기능 요약\n",
            "\n",
            "- **결제 요청**: 개발사는 발급받은 접근 토큰을 이용해 `paymentUrl`을 통해 결제 요청을 수행합니다. 이 과정에서 `paymentParam`을 전달하여 구매 정보 등을 전달합니다.\n",
            "- **표준 결제화면**: 결제 요청이 성공하면, 사용자는 원스토어의 표준 결제화면에서 결제를 진행하게 됩니다.\n",
            "- **결제 응답 처리**: 결제가 완료되면, 결제 결과 정보가 개발사 서버로 응답 형태로 전달됩니다. 이 응답을 통해 개발사는 결제 결과를 확인하고 필요한 조치를 취할 수 있습니다.\n",
            "\n",
            "### 🔍 추가 정보\n",
            "\n",
            "1. **보안 고려사항**\n",
            "   - 접근 토큰의 안전한 관리 방법과 보안 관련 주의 사항에 대한 자세한 설명이 필요합니다.\n",
            "   \n",
            "2. **오류 처리 및 디버깅**\n",
            "   - 다양한 표준 응답 코드에 따른 적절한 오류 처리 방법과 디버깅 전략에 대한 안내가 필요합니다.\n",
            "   \n",
            "3. **사용 예제 및 코드 샘플**\n",
            "   - 실제 API 호출 예제와 코드 샘플을 제공하여 개발자들이 쉽게 이해하고 적용할 수 있도록 하는 것이 유용할 것입니다.\n",
            "   \n",
            "4. **문서화 및 지원 리소스**\n",
            "   - 문서의 업데이트 일정, 추가 질문이나 지원을 위한 연락처 정보 등을 포함하여 사용자들이 지속적으로 도움을 받을 수 있도록 합니다.\n"
          ]
        }
      ],
      "source": [
        "# 테스트 2: PNS_1, PNS_2 등의 세부 개념들\n",
        "print(\"🔍 테스트 2: PNS_1, PNS_2 등의 세부 개념들이 무엇인지 알려주세요\")\n",
        "print(\"=\"*80)\n",
        "\n",
        "query2 = \"PNS의 개념들이 무엇인지 알려주세요\"\n",
        "answer2 = enhanced_system.answer_comprehensive(query2, include_overview=True)\n",
        "print(f\"답변:\\n{answer2}\")"
      ]
    },
    {
      "cell_type": "code",
      "execution_count": 100,
      "metadata": {},
      "outputs": [
        {
          "name": "stdout",
          "output_type": "stream",
          "text": [
            "🔍 테스트 3: 원스토어 인앱결제의 전체적인 구조를 설명해주세요\n",
            "================================================================================\n",
            "답변:\n",
            "### 분석 결과 요약\n",
            "\n",
            "#### 📋 전체 구조\n",
            "1. **결제 요청 (API 요청)**\n",
            "   - **구현 세부사항**: REST API를 통한 결제 요청 방법 설명\n",
            "   - **요청 예시**: HTTP 요청 방법, 사용 예시 및 코드 샘플 제공\n",
            "   - **응답 코드**: 성공/실패 응답 코드와 그 의미 설명\n",
            "\n",
            "2. **결제 응답 (결제 결과 처리)**\n",
            "   - **구현 세부사항**: 결제 결과를 개발사로 전달하는 방법 (`returnUrl`, `callbackUrl`)\n",
            "   - **요청 예시**: `returnUrl`을 통한 폼 데이터 전송 방식과 `callbackUrl`을 통한 JSON 데이터 전송 방식\n",
            "   - **응답 코드**: 결제 결과에 대한 다양한 응답 코드와 그 의미 설명 (성공, 실패, 사용자 취소 등)\n",
            "\n",
            "#### 🎯 핵심 개념\n",
            "1. **REST API**: 결제 요청과 결과 전달을 위한 통신 프로토콜로서의 역할\n",
            "2. **구매 토큰 (Purchase Token)**: 결제 요청 및 결과 확인 시 중요한 식별자\n",
            "3. **개발자 페이로드 (Developer Payload)**: 개발자 측에서 관리하는 고유 식별자로 결제 요청 및 결과 확인에 사용\n",
            "4. **서명 검증 (Signature Verification)**: 보안을 위한 데이터 무결성 및 진위 확인 메커니즘\n",
            "5. **응답 코드와 메시지**: 결제 프로세스의 다양한 상태를 나타내는 코드와 메시지의 중요성\n",
            "\n",
            "#### 📖 기능 요약\n",
            "- **결제 요청**: 개발자는 구매 정보를 포함한 결제 요청을 REST API를 통해 수행한다. 이 요청은 구매 토큰, 개발자 페이로드 등의 요소를 포함한다.\n",
            "- **결제 응답 처리**: 결제 결과는 두 가지 방식으로 전달된다: \n",
            "   - **returnUrl**: 사용자를 리다이렉트하여 결제 결과를 보여주는 URL을 통해 정보를 전달.\n",
            "   - **callbackUrl**: JSON 형태로 결제 결과를 서버로 전송하여 개발자가 결과를 처리할 수 있도록 함.\n",
            "- **보안 메커니즘**: 서명 검증을 통해 요청 및 응답의 무결성을 보장한다.\n",
            "\n",
            "#### 🔍 추가 정보\n",
            "- **세부 구현 예시**: 실제 코드 샘플 및 호출 예시 제공이 필요함. 특히 `callbackUrl`을 통한 응답 처리 예시는 중요한 추가 정보일 수 있음.\n",
            "- **응답 코드 세부사항**: 각 응답 코드에 대한 자세한 오류 상황 설명 추가가 유용할 수 있음. 예를 들어, `PaymentTimeExpired`와 같은 특정 오류 코드에 대한 자세한 설명과 대응 방안.\n",
            "- **사용자 가이드**: 결제 프로세스 전체를 이해하기 쉽게 설명하는 가이드나 팁 추가는 개발자에게 유용할 수 있음. 예를 들어, 결제 시간 만료 오류를 피하는 방법 등.\n",
            "\n",
            "이러한 분석을 통해 문서의 핵심 내용과 구조를 명확히 파악하고, 추가적으로 보완해야 할 부분들을 확인할 수 있습니다.\n"
          ]
        }
      ],
      "source": [
        "# 테스트 3: 원스토어 인앱결제의 전체적인 구조\n",
        "print(\"🔍 테스트 3: 원스토어 인앱결제의 전체적인 구조를 설명해주세요\")\n",
        "print(\"=\"*80)\n",
        "\n",
        "query3 = \"원스토어 인앱결제의 전체적인 구조를 설명해주세요\"\n",
        "answer3 = enhanced_system.answer_comprehensive(query3, include_overview=True)\n",
        "print(f\"답변:\\n{answer3}\")"
      ]
    },
    {
      "cell_type": "code",
      "execution_count": 101,
      "metadata": {},
      "outputs": [
        {
          "name": "stdout",
          "output_type": "stream",
          "text": [
            "🔍 테스트 4: PNS의 purchaseState 값은 무엇인가요? (상세 분석)\n",
            "================================================================================\n",
            "답변:\n",
            "### 🛠 요약 및 주요 내용\n",
            "\n",
            "#### 🛠 결제 응답 분석\n",
            "\n",
            "**📊 정확한 값들:**\n",
            "- **응답 코드 (HTTP Status Code):** 주로 `200 OK` (성공) 또는 오류 상황에 따른 `4xx` 및 `5xx` 범위의 코드들이 사용됩니다. 예를 들어:\n",
            "  - `200 OK`: 성공적인 결제 요청 처리.\n",
            "  - `400 Bad Request`: 잘못된 요청 파라미터로 인한 실패.\n",
            "  - `401 Unauthorized`: 접근 토큰이 유효하지 않거나 만료된 경우.\n",
            "  - `404 Not Found`: 요청한 리소스가 존재하지 않는 경우.\n",
            "  - `409 Conflict`: 구매 상태나 권한 관련 오류.\n",
            "  - `500 Internal Server Error`: 서버 측 오류.\n",
            "\n",
            "**💡 구체적 예시:**\n",
            "- **성공 사례:**\n",
            "  ```json\n",
            "  {\n",
            "    \"responseCode\": \"OK\",\n",
            "    \"paymentResult\": {\n",
            "      \"transactionId\": \"TX123456789\",\n",
            "      \"productId\": \"PROD987654\",\n",
            "      \"status\": \"SUCCESS\",\n",
            "      \"purchaseAmount\": \"10000\",\n",
            "      \"currency\": \"KRW\",\n",
            "      \"purchaseDate\": \"2023-10-05T12:00:00Z\"\n",
            "    }\n",
            "  }\n",
            "  ```\n",
            "  - 위 예시에서 `responseCode: \"OK\"`는 결제 요청이 성공적으로 처리되었음을 나타냅니다. `status: \"SUCCESS\"` 또한 결제 상태가 성공임을 명시합니다.\n",
            "\n",
            "- **오류 사례:**\n",
            "  ```json\n",
            "  {\n",
            "    \"responseCode\": \"BAD_REQUEST\",\n",
            "    \"errorMessage\": \"Invalid User Access Token\",\n",
            "    \"details\": {\n",
            "      \"errorCode\": \"InvalidUserAccessToken\",\n",
            "      \"message\": \"사용자 접근 토큰이 유효하지 않습니다.\"\n",
            "    }\n",
            "  }\n",
            "  ```\n",
            "  - 위 예시에서 `responseCode: \"BAD_REQUEST\"`와 `errorCode: \"InvalidUserAccessToken\"`는 접근 토큰 문제로 인한 실패 상황을 나타냅니다.\n",
            "\n",
            "**🔗 관련 정보:**\n",
            "- **서버 API 호출:** 결제 요청은 발급받은 접근 토큰(User Access Token)을 이용하여 HTTP 요청을 보냅니다. 헤더에 접근 토큰을 포함시켜야 합니다.\n",
            "- **표준 응답 코드:** 위에서 언급된 응답 코드들은 다양한 오류 및 성공 상황을 구분하는데 사용됩니다. 개발자는 이러한 코드를 통해 요청의 상태를 파악하고 적절한 조치를 취할 수 있습니다.\n",
            "\n",
            "**⚠️ 주의사항:**\n",
            "- **접근 토큰 관리:** 사용자 접근 토큰은 보안상 중요하며, 만료나 오류 상태를 적시에 감지하고 재발급해야 합니다.\n",
            "- **오류 처리:** 다양한 오류 코드에 대한 적절한 오류 처리 로직을 구현해야 합니다. 예를 들어, `401 Unauthorized`나 `409 Conflict`와 같은 오류 코드는 사용자 인터페이스나 애플리케이션 로직에서 사용자에게 명확한 피드백을 제공해야 합니다.\n",
            "- **로딩 타임 및 사용자 경험:** 결제 프로세스 중 발생할 수 있는 지연 시간을 최소화하고 사용자 경험을 최적화하기 위해 캐싱 전략이나 상태 확인 주기를 적절히 설정해야 합니다.\n",
            "\n",
            "이러한 내용을 통해 웹 기반 원스토어 인앱 결제 시스템의 응답 분석을 체계적으로 이해하고 구현할 수 있습니다.\n"
          ]
        }
      ],
      "source": [
        "# 테스트 4: 세부적인 필드값 질문 (기존 방식과 비교)\n",
        "print(\"🔍 테스트 4: PNS의 purchaseState 값은 무엇인가요? (상세 분석)\")\n",
        "print(\"=\"*80)\n",
        "\n",
        "query4 = \"PNS의 purchaseState 값은 무엇인가요?\"\n",
        "answer4 = enhanced_system.answer_comprehensive(query4, include_overview=False)\n",
        "print(f\"답변:\\n{answer4}\")"
      ]
    },
    {
      "cell_type": "code",
      "execution_count": null,
      "metadata": {},
      "outputs": [],
      "source": [
        "# 문서 구조 분석 결과 확인\n",
        "print(\"📊 문서 구조 분석 결과\")\n",
        "print(\"=\"*80)\n",
        "\n",
        "analyzer = enhanced_system.analyzer\n",
        "nodes = enhanced_system.multi_stage_retriever.nodes\n",
        "concept_hierarchy = enhanced_system.multi_stage_retriever.concept_hierarchy\n",
        "overview_sections = enhanced_system.multi_stage_retriever.overview_sections\n",
        "\n",
        "print(f\"총 노드 수: {len(nodes)}\")\n",
        "print(f\"개념 그룹 수: {len(concept_hierarchy)}\")\n",
        "print(f\"개요 섹션 수: {len(overview_sections)}\")\n",
        "\n",
        "print(\"\\n🎯 발견된 개념 그룹들:\")\n",
        "for base_concept, concept_nodes in concept_hierarchy.items():\n",
        "    print(f\"  - {base_concept}: {len(concept_nodes)}개 노드\")\n",
        "    for node_id in concept_nodes[:3]:  # 처음 3개만 표시\n",
        "        node = nodes[node_id]\n",
        "        print(f\"    * {node.title}\")\n",
        "\n",
        "print(\"\\n📖 개요 섹션들:\")\n",
        "for node_id in overview_sections[:5]:  # 처음 5개만 표시\n",
        "    node = nodes[node_id]\n",
        "    print(f\"  - {node.title}\")"
      ]
    },
    {
      "cell_type": "code",
      "execution_count": null,
      "metadata": {},
      "outputs": [],
      "source": [
        "# 사용자 정의 쿼리 테스트\n",
        "def test_custom_query(query: str, include_overview: bool = True):\n",
        "    \"\"\"사용자 정의 쿼리를 테스트하는 함수\"\"\"\n",
        "    print(f\"🔍 쿼리: {query}\")\n",
        "    print(\"-\"*60)\n",
        "    \n",
        "    try:\n",
        "        answer = enhanced_system.answer_comprehensive(query, include_overview=include_overview)\n",
        "        print(f\"답변:\\n{answer}\")\n",
        "    except Exception as e:\n",
        "        print(f\"오류 발생: {e}\")\n",
        "    \n",
        "    print(\"=\"*80)\n",
        "\n",
        "# 사용 예시\n",
        "# test_custom_query(\"원스토어 인앱결제에서 결제 상태는 어떻게 확인하나요?\")\n",
        "# test_custom_query(\"PNS 메시지의 구조를 자세히 설명해주세요\", include_overview=False)"
      ]
    }
  ],
  "metadata": {
    "kernelspec": {
      "display_name": "Python 3 (ipykernel)",
      "language": "python",
      "name": "python3"
    }
  },
  "nbformat": 4,
  "nbformat_minor": 4
}
