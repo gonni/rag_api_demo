{
 "cells": [
  {
   "cell_type": "code",
   "execution_count": 5,
   "id": "3c7b5dff",
   "metadata": {},
   "outputs": [],
   "source": [
    "import os\n",
    "import re\n",
    "from typing import List\n",
    "from pathlib import Path\n",
    "from langchain_core.documents import Document\n",
    "from langchain_community.document_loaders import TextLoader\n",
    "from langchain.text_splitter import RecursiveCharacterTextSplitter\n",
    "from langchain_ollama import OllamaEmbeddings\n",
    "from langchain_community.vectorstores import FAISS\n",
    "from langchain_text_splitters import MarkdownHeaderTextSplitter"
   ]
  },
  {
   "cell_type": "markdown",
   "id": "semantic-chunking-intro",
   "metadata": {},
   "source": [
    "# Semantic Chunking을 활용한 마크다운 문서 분할\n",
    "\n",
    "이 노트북에서는 `MarkdownHeaderTextSplitter`를 사용하여 `data/dev_center_guide_allmd.md` 파일을 의미적으로 분할하고 Document 객체를 생성합니다."
   ]
  },
  {
   "cell_type": "code",
   "execution_count": 6,
   "id": "load-markdown-file",
   "metadata": {},
   "outputs": [
    {
     "name": "stdout",
     "output_type": "stream",
     "text": [
      "마크다운 파일 로드 완료: 383199 문자\n",
      "파일 경로: data/dev_center_guide_allmd.md\n"
     ]
    }
   ],
   "source": [
    "# 마크다운 파일 로드\n",
    "markdown_file_path = \"data/dev_center_guide_allmd.md\"\n",
    "\n",
    "# 파일 존재 확인\n",
    "if not os.path.exists(markdown_file_path):\n",
    "    raise FileNotFoundError(f\"파일을 찾을 수 없습니다: {markdown_file_path}\")\n",
    "\n",
    "# 파일 내용 읽기\n",
    "with open(markdown_file_path, 'r', encoding='utf-8') as f:\n",
    "    markdown_content = f.read()\n",
    "\n",
    "print(f\"마크다운 파일 로드 완료: {len(markdown_content)} 문자\")\n",
    "print(f\"파일 경로: {markdown_file_path}\")"
   ]
  },
  {
   "cell_type": "code",
   "execution_count": 7,
   "id": "setup-semantic-splitter",
   "metadata": {},
   "outputs": [
    {
     "name": "stdout",
     "output_type": "stream",
     "text": [
      "MarkdownHeaderTextSplitter 설정 완료\n",
      "분할할 헤더 레벨: 6개\n"
     ]
    }
   ],
   "source": [
    "# MarkdownHeaderTextSplitter 설정\n",
    "# 헤더 레벨별로 분할할 수 있도록 설정\n",
    "headers_to_split_on = [\n",
    "    (\"#\", \"Header 1\"),\n",
    "    (\"##\", \"Header 2\"),\n",
    "    (\"###\", \"Header 3\"),\n",
    "    (\"####\", \"Header 4\"),\n",
    "    (\"#####\", \"Header 5\"),\n",
    "    (\"######\", \"Header 6\"),\n",
    "]\n",
    "\n",
    "# MarkdownHeaderTextSplitter 초기화\n",
    "markdown_splitter = MarkdownHeaderTextSplitter(\n",
    "    headers_to_split_on=headers_to_split_on,\n",
    "    return_each_line=False,  # 각 라인을 별도로 반환하지 않음\n",
    ")\n",
    "\n",
    "print(\"MarkdownHeaderTextSplitter 설정 완료\")\n",
    "print(f\"분할할 헤더 레벨: {len(headers_to_split_on)}개\")"
   ]
  },
  {
   "cell_type": "code",
   "execution_count": 8,
   "id": "split-markdown-semantically",
   "metadata": {},
   "outputs": [
    {
     "name": "stdout",
     "output_type": "stream",
     "text": [
      "마크다운 문서를 의미적으로 분할 중...\n",
      "분할 완료: 495개의 청크 생성\n",
      "\n",
      "=== 첫 번째 청크 샘플 ===\n",
      "청크 길이: 60 문자\n",
      "청크 내용 (처음 200자): 출처: https://onestore-dev.gitbook.io/dev/tools/billing/v21.md...\n",
      "메타데이터: {}\n"
     ]
    }
   ],
   "source": [
    "# 의미적 분할 수행\n",
    "print(\"마크다운 문서를 의미적으로 분할 중...\")\n",
    "\n",
    "# MarkdownHeaderTextSplitter로 분할\n",
    "semantic_chunks = markdown_splitter.split_text(markdown_content)\n",
    "\n",
    "print(f\"분할 완료: {len(semantic_chunks)}개의 청크 생성\")\n",
    "\n",
    "# 첫 번째 청크 샘플 출력\n",
    "if semantic_chunks:\n",
    "    print(\"\\n=== 첫 번째 청크 샘플 ===\")\n",
    "    print(f\"청크 길이: {len(semantic_chunks[0].page_content)} 문자\")\n",
    "    print(f\"청크 내용 (처음 200자): {semantic_chunks[0].page_content[:200]}...\")\n",
    "    \n",
    "    # 헤더 정보 확인\n",
    "    print(f\"메타데이터: {semantic_chunks[0].metadata}\")"
   ]
  },
  {
   "cell_type": "code",
   "execution_count": 9,
   "id": "create-documents",
   "metadata": {},
   "outputs": [
    {
     "name": "stdout",
     "output_type": "stream",
     "text": [
      "Document 객체 생성 완료: 495개\n",
      "\n",
      "=== 통계 정보 ===\n",
      "총 문서 수: 495개\n",
      "총 문자 수: 328,352자\n",
      "평균 청크 크기: 663.3자\n",
      "헤더가 포함된 문서: 494개\n",
      "\n",
      "=== 첫 번째 Document 샘플 ===\n",
      "메타데이터: {'source': 'data/dev_center_guide_allmd.md', 'chunk_id': 0, 'chunk_type': 'semantic_markdown', 'content_length': 60}\n",
      "내용 (처음 150자): 출처: https://onestore-dev.gitbook.io/dev/tools/billing/v21.md...\n"
     ]
    }
   ],
   "source": [
    "# Document 객체들은 이미 생성되어 있음\n",
    "documents = semantic_chunks\n",
    "\n",
    "# 각 Document의 메타데이터에 추가 정보 설정\n",
    "for i, doc in enumerate(documents):\n",
    "    # 기존 메타데이터에 추가 정보 설정\n",
    "    doc.metadata.update({\n",
    "        'source': markdown_file_path,\n",
    "        'chunk_id': i,\n",
    "        'chunk_type': 'semantic_markdown',\n",
    "        'content_length': len(doc.page_content),\n",
    "    })\n",
    "\n",
    "print(f\"Document 객체 생성 완료: {len(documents)}개\")\n",
    "\n",
    "# 통계 정보 출력\n",
    "if documents:\n",
    "    total_chars = sum(len(doc.page_content) for doc in documents)\n",
    "    avg_chars = total_chars / len(documents)\n",
    "    \n",
    "    print(f\"\\n=== 통계 정보 ===\")\n",
    "    print(f\"총 문서 수: {len(documents)}개\")\n",
    "    print(f\"총 문자 수: {total_chars:,}자\")\n",
    "    print(f\"평균 청크 크기: {avg_chars:.1f}자\")\n",
    "    \n",
    "    # 헤더가 있는 문서 수\n",
    "    docs_with_headers = [doc for doc in documents if any(key.startswith('Header') for key in doc.metadata.keys())]\n",
    "    print(f\"헤더가 포함된 문서: {len(docs_with_headers)}개\")\n",
    "    \n",
    "    # 첫 번째 문서 샘플 출력\n",
    "    print(f\"\\n=== 첫 번째 Document 샘플 ===\")\n",
    "    first_doc = documents[0]\n",
    "    print(f\"메타데이터: {first_doc.metadata}\")\n",
    "    print(f\"내용 (처음 150자): {first_doc.page_content[:150]}...\")"
   ]
  },
  {
   "cell_type": "code",
   "execution_count": 10,
   "id": "analyze-chunks",
   "metadata": {},
   "outputs": [
    {
     "name": "stdout",
     "output_type": "stream",
     "text": [
      "=== 청크 분석 결과 ===\n",
      "최소 청크 크기: 3자\n",
      "최대 청크 크기: 10416자\n",
      "중간값 청크 크기: 323.0자\n",
      "표준편차: 1061.5자\n",
      "\n",
      "헤더 정보 분석:\n",
      "  Header 1: 494개 문서\n",
      "  Header 2: 422개 문서\n",
      "  Header 3: 367개 문서\n",
      "  Header 4: 96개 문서\n"
     ]
    },
    {
     "name": "stderr",
     "output_type": "stream",
     "text": [
      "/var/folders/lr/mv7qs1n11s58s4mq9t7vlxr40000gn/T/ipykernel_88283/3611362754.py:43: UserWarning: Glyph 52397 (\\N{HANGUL SYLLABLE CEONG}) missing from font(s) DejaVu Sans.\n",
      "  plt.tight_layout()\n",
      "/var/folders/lr/mv7qs1n11s58s4mq9t7vlxr40000gn/T/ipykernel_88283/3611362754.py:43: UserWarning: Glyph 53356 (\\N{HANGUL SYLLABLE KEU}) missing from font(s) DejaVu Sans.\n",
      "  plt.tight_layout()\n",
      "/var/folders/lr/mv7qs1n11s58s4mq9t7vlxr40000gn/T/ipykernel_88283/3611362754.py:43: UserWarning: Glyph 44592 (\\N{HANGUL SYLLABLE GI}) missing from font(s) DejaVu Sans.\n",
      "  plt.tight_layout()\n",
      "/var/folders/lr/mv7qs1n11s58s4mq9t7vlxr40000gn/T/ipykernel_88283/3611362754.py:43: UserWarning: Glyph 47928 (\\N{HANGUL SYLLABLE MUN}) missing from font(s) DejaVu Sans.\n",
      "  plt.tight_layout()\n",
      "/var/folders/lr/mv7qs1n11s58s4mq9t7vlxr40000gn/T/ipykernel_88283/3611362754.py:43: UserWarning: Glyph 51088 (\\N{HANGUL SYLLABLE JA}) missing from font(s) DejaVu Sans.\n",
      "  plt.tight_layout()\n",
      "/var/folders/lr/mv7qs1n11s58s4mq9t7vlxr40000gn/T/ipykernel_88283/3611362754.py:43: UserWarning: Glyph 49688 (\\N{HANGUL SYLLABLE SU}) missing from font(s) DejaVu Sans.\n",
      "  plt.tight_layout()\n",
      "/var/folders/lr/mv7qs1n11s58s4mq9t7vlxr40000gn/T/ipykernel_88283/3611362754.py:43: UserWarning: Glyph 49436 (\\N{HANGUL SYLLABLE SEO}) missing from font(s) DejaVu Sans.\n",
      "  plt.tight_layout()\n",
      "/var/folders/lr/mv7qs1n11s58s4mq9t7vlxr40000gn/T/ipykernel_88283/3611362754.py:43: UserWarning: Glyph 48516 (\\N{HANGUL SYLLABLE BUN}) missing from font(s) DejaVu Sans.\n",
      "  plt.tight_layout()\n",
      "/var/folders/lr/mv7qs1n11s58s4mq9t7vlxr40000gn/T/ipykernel_88283/3611362754.py:43: UserWarning: Glyph 54252 (\\N{HANGUL SYLLABLE PO}) missing from font(s) DejaVu Sans.\n",
      "  plt.tight_layout()\n",
      "/var/folders/lr/mv7qs1n11s58s4mq9t7vlxr40000gn/T/ipykernel_88283/3611362754.py:43: UserWarning: Glyph 54756 (\\N{HANGUL SYLLABLE HE}) missing from font(s) DejaVu Sans.\n",
      "  plt.tight_layout()\n",
      "/var/folders/lr/mv7qs1n11s58s4mq9t7vlxr40000gn/T/ipykernel_88283/3611362754.py:43: UserWarning: Glyph 45908 (\\N{HANGUL SYLLABLE DEO}) missing from font(s) DejaVu Sans.\n",
      "  plt.tight_layout()\n",
      "/var/folders/lr/mv7qs1n11s58s4mq9t7vlxr40000gn/T/ipykernel_88283/3611362754.py:43: UserWarning: Glyph 53440 (\\N{HANGUL SYLLABLE TA}) missing from font(s) DejaVu Sans.\n",
      "  plt.tight_layout()\n",
      "/var/folders/lr/mv7qs1n11s58s4mq9t7vlxr40000gn/T/ipykernel_88283/3611362754.py:43: UserWarning: Glyph 51077 (\\N{HANGUL SYLLABLE IB}) missing from font(s) DejaVu Sans.\n",
      "  plt.tight_layout()\n",
      "/Users/a1000074/dev/vscode_python_works/langserv_api_demo/venv/lib/python3.11/site-packages/IPython/core/pylabtools.py:170: UserWarning: Glyph 47928 (\\N{HANGUL SYLLABLE MUN}) missing from font(s) DejaVu Sans.\n",
      "  fig.canvas.print_figure(bytes_io, **kw)\n",
      "/Users/a1000074/dev/vscode_python_works/langserv_api_demo/venv/lib/python3.11/site-packages/IPython/core/pylabtools.py:170: UserWarning: Glyph 49436 (\\N{HANGUL SYLLABLE SEO}) missing from font(s) DejaVu Sans.\n",
      "  fig.canvas.print_figure(bytes_io, **kw)\n",
      "/Users/a1000074/dev/vscode_python_works/langserv_api_demo/venv/lib/python3.11/site-packages/IPython/core/pylabtools.py:170: UserWarning: Glyph 49688 (\\N{HANGUL SYLLABLE SU}) missing from font(s) DejaVu Sans.\n",
      "  fig.canvas.print_figure(bytes_io, **kw)\n",
      "/Users/a1000074/dev/vscode_python_works/langserv_api_demo/venv/lib/python3.11/site-packages/IPython/core/pylabtools.py:170: UserWarning: Glyph 52397 (\\N{HANGUL SYLLABLE CEONG}) missing from font(s) DejaVu Sans.\n",
      "  fig.canvas.print_figure(bytes_io, **kw)\n",
      "/Users/a1000074/dev/vscode_python_works/langserv_api_demo/venv/lib/python3.11/site-packages/IPython/core/pylabtools.py:170: UserWarning: Glyph 53356 (\\N{HANGUL SYLLABLE KEU}) missing from font(s) DejaVu Sans.\n",
      "  fig.canvas.print_figure(bytes_io, **kw)\n",
      "/Users/a1000074/dev/vscode_python_works/langserv_api_demo/venv/lib/python3.11/site-packages/IPython/core/pylabtools.py:170: UserWarning: Glyph 44592 (\\N{HANGUL SYLLABLE GI}) missing from font(s) DejaVu Sans.\n",
      "  fig.canvas.print_figure(bytes_io, **kw)\n",
      "/Users/a1000074/dev/vscode_python_works/langserv_api_demo/venv/lib/python3.11/site-packages/IPython/core/pylabtools.py:170: UserWarning: Glyph 48516 (\\N{HANGUL SYLLABLE BUN}) missing from font(s) DejaVu Sans.\n",
      "  fig.canvas.print_figure(bytes_io, **kw)\n",
      "/Users/a1000074/dev/vscode_python_works/langserv_api_demo/venv/lib/python3.11/site-packages/IPython/core/pylabtools.py:170: UserWarning: Glyph 54252 (\\N{HANGUL SYLLABLE PO}) missing from font(s) DejaVu Sans.\n",
      "  fig.canvas.print_figure(bytes_io, **kw)\n",
      "/Users/a1000074/dev/vscode_python_works/langserv_api_demo/venv/lib/python3.11/site-packages/IPython/core/pylabtools.py:170: UserWarning: Glyph 51088 (\\N{HANGUL SYLLABLE JA}) missing from font(s) DejaVu Sans.\n",
      "  fig.canvas.print_figure(bytes_io, **kw)\n",
      "/Users/a1000074/dev/vscode_python_works/langserv_api_demo/venv/lib/python3.11/site-packages/IPython/core/pylabtools.py:170: UserWarning: Glyph 54756 (\\N{HANGUL SYLLABLE HE}) missing from font(s) DejaVu Sans.\n",
      "  fig.canvas.print_figure(bytes_io, **kw)\n",
      "/Users/a1000074/dev/vscode_python_works/langserv_api_demo/venv/lib/python3.11/site-packages/IPython/core/pylabtools.py:170: UserWarning: Glyph 45908 (\\N{HANGUL SYLLABLE DEO}) missing from font(s) DejaVu Sans.\n",
      "  fig.canvas.print_figure(bytes_io, **kw)\n",
      "/Users/a1000074/dev/vscode_python_works/langserv_api_demo/venv/lib/python3.11/site-packages/IPython/core/pylabtools.py:170: UserWarning: Glyph 53440 (\\N{HANGUL SYLLABLE TA}) missing from font(s) DejaVu Sans.\n",
      "  fig.canvas.print_figure(bytes_io, **kw)\n",
      "/Users/a1000074/dev/vscode_python_works/langserv_api_demo/venv/lib/python3.11/site-packages/IPython/core/pylabtools.py:170: UserWarning: Glyph 51077 (\\N{HANGUL SYLLABLE IB}) missing from font(s) DejaVu Sans.\n",
      "  fig.canvas.print_figure(bytes_io, **kw)\n"
     ]
    },
    {
     "data": {
      "image/png": "[encoded data removed]",
      "text/plain": [
       "<Figure size 1500x500 with 2 Axes>"
      ]
     },
     "metadata": {},
     "output_type": "display_data"
    }
   ],
   "source": [
    "# 청크 분석 및 시각화\n",
    "import matplotlib.pyplot as plt\n",
    "import numpy as np\n",
    "\n",
    "# 청크 크기 분포 분석\n",
    "chunk_sizes = [len(doc.page_content) for doc in documents]\n",
    "\n",
    "print(\"=== 청크 분석 결과 ===\")\n",
    "print(f\"최소 청크 크기: {min(chunk_sizes)}자\")\n",
    "print(f\"최대 청크 크기: {max(chunk_sizes)}자\")\n",
    "print(f\"중간값 청크 크기: {np.median(chunk_sizes):.1f}자\")\n",
    "print(f\"표준편차: {np.std(chunk_sizes):.1f}자\")\n",
    "\n",
    "# 헤더 정보 분석\n",
    "print(f\"\\n헤더 정보 분석:\")\n",
    "header_types = {}\n",
    "for doc in documents:\n",
    "    for key in doc.metadata.keys():\n",
    "        if key.startswith('Header'):\n",
    "            header_types[key] = header_types.get(key, 0) + 1\n",
    "\n",
    "for header_type, count in sorted(header_types.items()):\n",
    "    print(f\"  {header_type}: {count}개 문서\")\n",
    "\n",
    "# 시각화\n",
    "fig, (ax1, ax2) = plt.subplots(1, 2, figsize=(15, 5))\n",
    "\n",
    "# 청크 크기 분포\n",
    "ax1.hist(chunk_sizes, bins=20, alpha=0.7, color='skyblue', edgecolor='black')\n",
    "ax1.set_xlabel('청크 크기 (문자 수)')\n",
    "ax1.set_ylabel('문서 수')\n",
    "ax1.set_title('청크 크기 분포')\n",
    "ax1.grid(True, alpha=0.3)\n",
    "\n",
    "# 헤더 타입 분포\n",
    "if header_types:\n",
    "    ax2.bar(header_types.keys(), header_types.values(), alpha=0.7, color='lightcoral')\n",
    "    ax2.set_xlabel('헤더 타입')\n",
    "    ax2.set_ylabel('문서 수')\n",
    "    ax2.set_title('헤더 타입 분포')\n",
    "    ax2.grid(True, alpha=0.3)\n",
    "\n",
    "plt.tight_layout()\n",
    "plt.show()"
   ]
  },
  {
   "cell_type": "code",
   "execution_count": 11,
   "id": "save-documents",
   "metadata": {},
   "outputs": [
    {
     "name": "stdout",
     "output_type": "stream",
     "text": [
      "Document 객체들이 pickle로 저장되었습니다: ../result/semantic_chunks_documents.pkl\n",
      "메타데이터가 JSON으로 저장되었습니다: ../result/semantic_chunks_metadata.json\n",
      "\n",
      "총 495개의 의미적 청크가 생성되어 저장되었습니다.\n"
     ]
    }
   ],
   "source": [
    "# 생성된 Document 객체들을 파일로 저장 (선택사항)\n",
    "import pickle\n",
    "import json\n",
    "\n",
    "# pickle로 저장\n",
    "output_dir = \"../result\"\n",
    "os.makedirs(output_dir, exist_ok=True)\n",
    "\n",
    "pickle_path = os.path.join(output_dir, \"semantic_chunks_documents.pkl\")\n",
    "with open(pickle_path, 'wb') as f:\n",
    "    pickle.dump(documents, f)\n",
    "\n",
    "print(f\"Document 객체들이 pickle로 저장되었습니다: {pickle_path}\")\n",
    "\n",
    "# 메타데이터만 JSON으로 저장 (인간이 읽기 쉬운 형태)\n",
    "metadata_list = []\n",
    "for doc in documents:\n",
    "    metadata_list.append({\n",
    "        'chunk_id': doc.metadata['chunk_id'],\n",
    "        'headers': [key for key in doc.metadata.keys() if key.startswith('Header')],\n",
    "        'header_count': len([key for key in doc.metadata.keys() if key.startswith('Header')]),\n",
    "        'content_length': doc.metadata['content_length'],\n",
    "        'content_preview': doc.page_content[:200] + '...' if len(doc.page_content) > 200 else doc.page_content\n",
    "    })\n",
    "\n",
    "json_path = os.path.join(output_dir, \"semantic_chunks_metadata.json\")\n",
    "with open(json_path, 'w', encoding='utf-8') as f:\n",
    "    json.dump(metadata_list, f, ensure_ascii=False, indent=2)\n",
    "\n",
    "print(f\"메타데이터가 JSON으로 저장되었습니다: {json_path}\")\n",
    "print(f\"\\n총 {len(documents)}개의 의미적 청크가 생성되어 저장되었습니다.\")"
   ]
  }
 ],
 "metadata": {
  "kernelspec": {
   "display_name": "venv",
   "language": "python",
   "name": "python3"
  },
  "language_info": {
   "codemirror_mode": {
    "name": "ipython",
    "version": 3
   },
   "file_extension": ".py",
   "mimetype": "text/x-python",
   "name": "python",
   "nbconvert_exporter": "python",
   "pygments_lexer": "ipython3",
   "version": "3.11.11"
  }
 },
 "nbformat": 4,
 "nbformat_minor": 5
}
