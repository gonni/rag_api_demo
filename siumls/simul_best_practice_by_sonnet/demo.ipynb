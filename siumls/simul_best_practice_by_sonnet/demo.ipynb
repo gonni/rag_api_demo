{
  "cells": [
    {
      "cell_type": "markdown",
      "metadata": {},
      "source": [
        "# 원스토어 IAP 기술문서 최적화 RAG 시스템\n",
        "# OneStore IAP Technical Documentation Optimized RAG System\n",
        "\n",
        "이 노트북은 원스토어 인앱결제 기술문서를 위한 최적화된 RAG 시스템을 데모합니다.\n",
        "\n",
        "## 🎯 주요 특징\n",
        "- **계층적 문서 분할**: 출처별 → 헤더별 → 청크별 구조화\n",
        "- **컨텍스트 인식 검색**: 전문용어의 맥락적 의미 고려\n",
        "- **다단계 리랭킹**: 관련성, 맥락, 기술정확성 종합 평가\n",
        "- **Ollama 최적화**: bge-m3 + exaone3.5 로컬 실행\n"
      ]
    },
    {
      "cell_type": "code",
      "execution_count": 24,
      "metadata": {},
      "outputs": [
        {
          "name": "stdout",
          "output_type": "stream",
          "text": [
            "작업 디렉토리: /home/gpu/dev/jupyter_root\n",
            "Python 경로에 추가됨: /home/gpu/dev/jupyter_root\n",
            "❌ 모듈 import 실패: No module named 'optimized_rag_pipeline'\n",
            "\n",
            "필요한 의존성을 설치해주세요:\n",
            "pip install -r requirements.txt\n",
            "\n",
            "Ollama 모델도 설치해주세요:\n",
            "ollama pull bge-m3:latest\n",
            "ollama pull exaone3.5:latest\n"
          ]
        }
      ],
      "source": [
        "# 환경 설정 및 모듈 import\n",
        "import os\n",
        "import sys\n",
        "import time\n",
        "import json\n",
        "from pathlib import Path\n",
        "\n",
        "# 현재 디렉토리를 Python 경로에 추가\n",
        "current_dir = Path.cwd()\n",
        "if str(current_dir) not in sys.path:\n",
        "    sys.path.append(str(current_dir))\n",
        "\n",
        "print(f\"작업 디렉토리: {current_dir}\")\n",
        "print(f\"Python 경로에 추가됨: {str(current_dir)}\")\n",
        "\n",
        "# 모듈 import\n",
        "try:\n",
        "    from optimized_rag_pipeline import OptimizedRAGPipeline, create_pipeline\n",
        "    from hierarchical_splitter import HierarchicalSplitter\n",
        "    from context_aware_retriever import ContextAwareRetriever\n",
        "    print(\"✅ 모든 모듈 import 성공!\")\n",
        "except ImportError as e:\n",
        "    print(f\"❌ 모듈 import 실패: {e}\")\n",
        "    print(\"\\n필요한 의존성을 설치해주세요:\")\n",
        "    print(\"pip install -r requirements.txt\")\n",
        "    print(\"\\nOllama 모델도 설치해주세요:\")\n",
        "    print(\"ollama pull bge-m3:latest\")\n",
        "    print(\"ollama pull exaone3.5:latest\")\n"
      ]
    },
    {
      "cell_type": "code",
      "execution_count": null,
      "metadata": {},
      "outputs": [],
      "source": [
        "# 파이프라인 초기화 및 테스트\n",
        "data_file = \"../../data/dev_center_guide_allmd_touched.md\"\n",
        "\n",
        "# 데이터 파일 확인\n",
        "if os.path.exists(data_file):\n",
        "    print(f\"✅ 데이터 파일 확인됨: {data_file}\")\n",
        "    \n",
        "    # 파이프라인 생성\n",
        "    print(\"🔧 파이프라인 초기화 중...\")\n",
        "    pipeline = create_pipeline(data_file, force_rebuild=False)\n",
        "    \n",
        "    # 테스트 질문\n",
        "    test_question = \"PurchaseClient를 어떻게 초기화하나요?\"\n",
        "    print(f\"\\n🤔 테스트 질문: {test_question}\")\n",
        "    \n",
        "    result = pipeline.query(test_question, stream=False)\n",
        "    \n",
        "    print(f\"\\n💡 답변:\")\n",
        "    print(result['answer'])\n",
        "    \n",
        "    print(f\"\\n📊 통계:\")\n",
        "    stats = pipeline.get_statistics()\n",
        "    print(f\"  - 총 문서 청크: {stats['total_chunks']}\")\n",
        "    print(f\"  - 응답 시간: {result['query_time']:.2f}초\")\n",
        "    \n",
        "else:\n",
        "    print(f\"❌ 데이터 파일을 찾을 수 없습니다: {data_file}\")\n",
        "    print(\"경로를 확인하거나 파일을 복사해주세요.\")\n"
      ]
    },
    {
      "cell_type": "code",
      "execution_count": null,
      "metadata": {},
      "outputs": [],
      "source": [
        "# 사용자 질문 테스트 (pipeline이 초기화된 후 실행)\n",
        "if 'pipeline' in locals():\n",
        "    print(\"💬 질문을 입력하여 테스트해보세요!\")\n",
        "    \n",
        "    # 추가 테스트 질문들\n",
        "    test_questions = [\n",
        "        \"purchaseState 값은 무엇인가요?\",\n",
        "        \"PNS 서비스란 무엇인가요?\",\n",
        "        \"구독형 상품과 관리형 상품의 차이점은?\",\n",
        "        \"인앱결제 테스트는 어떻게 하나요?\"\n",
        "    ]\n",
        "    \n",
        "    print(\"\\n📝 추천 질문들:\")\n",
        "    for i, q in enumerate(test_questions, 1):\n",
        "        print(f\"  {i}. {q}\")\n",
        "    \n",
        "    print(\"\\n아래에 원하는 질문을 입력하고 실행하세요:\")\n",
        "    print(\"user_question = '질문을 여기에 입력'\")\n",
        "    print(\"result = pipeline.query(user_question, stream=False)\")\n",
        "    print(\"print(result['answer'])\")\n",
        "    \n",
        "else:\n",
        "    print(\"❌ 먼저 위의 셀을 실행하여 파이프라인을 초기화하세요.\")\n"
      ]
    },
    {
      "cell_type": "code",
      "execution_count": null,
      "metadata": {},
      "outputs": [],
      "source": [
        "# 여기에 원하는 질문을 입력하고 테스트하세요\n",
        "user_question = \"purchaseState 값은 무엇인가요?\"\n",
        "\n",
        "if 'pipeline' in locals():\n",
        "    result = pipeline.query(user_question, stream=False)\n",
        "    \n",
        "    print(f\"🤔 질문: {user_question}\")\n",
        "    print(\"=\" * 60)\n",
        "    print(f\"💡 답변:\")\n",
        "    print(result['answer'])\n",
        "    print(f\"\\n⏱️ 응답 시간: {result['query_time']:.2f}초\")\n",
        "    print(f\"📄 참조 문서: {result['retrieved_docs_count']}개\")\n",
        "else:\n",
        "    print(\"❌ 파이프라인이 초기화되지 않았습니다. 위의 셀들을 먼저 실행하세요.\")\n"
      ]
    }
  ],
  "metadata": {
    "kernelspec": {
      "display_name": "Python 3 (ipykernel)",
      "language": "python",
      "name": "python3"
    },
    "language_info": {
      "codemirror_mode": {
        "name": "ipython",
        "version": 3
      },
      "file_extension": ".py",
      "mimetype": "text/x-python",
      "name": "python",
      "nbconvert_exporter": "python",
      "pygments_lexer": "ipython3",
      "version": "3.11.13"
    }
  },
  "nbformat": 4,
  "nbformat_minor": 2
}
